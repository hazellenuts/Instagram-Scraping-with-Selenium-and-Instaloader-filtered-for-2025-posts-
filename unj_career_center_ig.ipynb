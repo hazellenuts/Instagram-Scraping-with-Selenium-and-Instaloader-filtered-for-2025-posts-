{
 "cells": [
  {
   "cell_type": "markdown",
   "id": "feb76fd8",
   "metadata": {},
   "source": [
    "## **Instagram Scraping with Selenium and Instaloader (filtered for 2025 posts)** 📸\n",
    "_by hazellenuts_"
   ]
  },
  {
   "cell_type": "markdown",
   "id": "603f0d85",
   "metadata": {},
   "source": [
    "### 🗃️ Import Libraries"
   ]
  },
  {
   "cell_type": "code",
   "execution_count": null,
   "id": "13e1c404",
   "metadata": {},
   "outputs": [],
   "source": [
    "import pandas as pd\n",
    "import time\n",
    "import random\n",
    "from datetime import datetime\n",
    "import warnings\n",
    "import instaloader\n",
    "\n",
    "warnings.filterwarnings(\"ignore\")\n",
    "\n",
    "from selenium import webdriver\n",
    "from selenium.webdriver.common.by import By\n",
    "from selenium.webdriver.chrome.service import Service\n",
    "from selenium.webdriver.support import expected_conditions as EC\n",
    "\n"
   ]
  },
  {
   "cell_type": "markdown",
   "id": "8ae5ef1e",
   "metadata": {},
   "source": [
    "### Chromedriver Configuration"
   ]
  },
  {
   "cell_type": "code",
   "execution_count": 2,
   "id": "5573f806",
   "metadata": {},
   "outputs": [],
   "source": [
    "chromedriver_path = r\"C:\\\\Users\\\\chromedriver.exe\"\n",
    "service = Service(chromedriver_path)\n",
    "driver = webdriver.Chrome(service=service)"
   ]
  },
  {
   "cell_type": "markdown",
   "id": "e17ff31e",
   "metadata": {},
   "source": [
    "### Log in to your Instagram Account"
   ]
  },
  {
   "cell_type": "code",
   "execution_count": null,
   "id": "ec6c51a3",
   "metadata": {},
   "outputs": [],
   "source": [
    "user_ig = \"[your_ig_username]\" #replace with your ig username\n",
    "pass_ig = \"[your_ig_password]\" #replace with your ig password\n",
    "url_target = \"https://www.instagram.com/[ig_username]}\" #replace with targeted url\n",
    "driver.get(\"https://www.instagram.com/\")\n",
    "time.sleep(random.randint(2, 4))\n",
    "\n",
    "username = driver.find_element(By.CSS_SELECTOR, \"input[name='username']\")\n",
    "password = driver.find_element(By.CSS_SELECTOR, \"input[name='password']\")\n",
    "username.clear()\n",
    "password.clear()\n",
    "username.send_keys(user_ig)\n",
    "password.send_keys(pass_ig)\n",
    "\n",
    "login_btn = driver.find_element(By.CSS_SELECTOR, \"button[type='submit']\")\n",
    "login_btn.click()\n",
    "time.sleep(5)\n",
    "\n",
    "driver.get(url_target)\n",
    "time.sleep(5)\n"
   ]
  },
  {
   "cell_type": "markdown",
   "id": "53b50939",
   "metadata": {},
   "source": [
    "### Scrape url"
   ]
  },
  {
   "cell_type": "code",
   "execution_count": null,
   "id": "7ff6f75c",
   "metadata": {},
   "outputs": [
    {
     "name": "stdout",
     "output_type": "stream",
     "text": [
      "Total post links found: 24\n"
     ]
    }
   ],
   "source": [
    "url_postingan_set = set()\n",
    "scroll_times = 0\n",
    "MAX_SCROLL = 1 #replace with your desired max scroll times\n",
    "\n",
    "while scroll_times < MAX_SCROLL:\n",
    "    driver.execute_script(\"window.scrollTo(0, document.body.scrollHeight);\")\n",
    "    time.sleep(random.randint(2, 4))\n",
    "\n",
    "    posts = driver.find_elements(By.CSS_SELECTOR, \"a[href*='/p/']\")\n",
    "    for post in posts:\n",
    "        url_postingan_set.add(post.get_attribute(\"href\"))\n",
    "\n",
    "    scroll_times += 1\n",
    "\n",
    "url_postingan_list = list(url_postingan_set)\n",
    "print(f\"Total post links found: {len(url_postingan_list)}\")\n"
   ]
  },
  {
   "cell_type": "markdown",
   "id": "bf397140",
   "metadata": {},
   "source": [
    "### Fetch posting dates (only 2025)"
   ]
  },
  {
   "cell_type": "code",
   "execution_count": 5,
   "id": "c0c35d3a",
   "metadata": {},
   "outputs": [],
   "source": [
    "urls_2025 = []\n",
    "\n",
    "for url in url_postingan_list:\n",
    "    driver.get(url)\n",
    "    time.sleep(random.randint(2, 4))\n",
    "    try:\n",
    "        time_elem = driver.find_element(By.TAG_NAME, \"time\")\n",
    "        post_date = time_elem.get_attribute(\"datetime\")\n",
    "\n",
    "        post_datetime = datetime.fromisoformat(post_date.replace(\"Z\", \"\"))\n",
    "        post_year = post_datetime.year\n",
    "\n",
    "        if post_year == 2025:\n",
    "            formatted_date = post_datetime.strftime(\"%d %B %Y, %H:%M\")\n",
    "            urls_2025.append([url, formatted_date])\n",
    "\n",
    "    except Exception as e:\n",
    "        print(f\"Error found {url}: {e}\")\n",
    "        continue"
   ]
  },
  {
   "cell_type": "code",
   "execution_count": 6,
   "id": "fffd62dc",
   "metadata": {},
   "outputs": [
    {
     "data": {
      "text/html": [
       "<div>\n",
       "<style scoped>\n",
       "    .dataframe tbody tr th:only-of-type {\n",
       "        vertical-align: middle;\n",
       "    }\n",
       "\n",
       "    .dataframe tbody tr th {\n",
       "        vertical-align: top;\n",
       "    }\n",
       "\n",
       "    .dataframe thead th {\n",
       "        text-align: right;\n",
       "    }\n",
       "</style>\n",
       "<table border=\"1\" class=\"dataframe\">\n",
       "  <thead>\n",
       "    <tr style=\"text-align: right;\">\n",
       "      <th></th>\n",
       "      <th>url</th>\n",
       "      <th>post_date</th>\n",
       "    </tr>\n",
       "  </thead>\n",
       "  <tbody>\n",
       "    <tr>\n",
       "      <th>0</th>\n",
       "      <td>https://www.instagram.com/unjcareercenter/p/DM...</td>\n",
       "      <td>22 July 2025, 01:54</td>\n",
       "    </tr>\n",
       "    <tr>\n",
       "      <th>1</th>\n",
       "      <td>https://www.instagram.com/unjcareercenter/p/DL...</td>\n",
       "      <td>11 July 2025, 02:42</td>\n",
       "    </tr>\n",
       "    <tr>\n",
       "      <th>2</th>\n",
       "      <td>https://www.instagram.com/unjcareercenter/p/DM...</td>\n",
       "      <td>22 July 2025, 08:05</td>\n",
       "    </tr>\n",
       "    <tr>\n",
       "      <th>3</th>\n",
       "      <td>https://www.instagram.com/unjcareercenter/p/DN...</td>\n",
       "      <td>07 August 2025, 06:53</td>\n",
       "    </tr>\n",
       "    <tr>\n",
       "      <th>4</th>\n",
       "      <td>https://www.instagram.com/unjcareercenter/p/DN...</td>\n",
       "      <td>19 August 2025, 02:55</td>\n",
       "    </tr>\n",
       "  </tbody>\n",
       "</table>\n",
       "</div>"
      ],
      "text/plain": [
       "                                                 url              post_date\n",
       "0  https://www.instagram.com/unjcareercenter/p/DM...    22 July 2025, 01:54\n",
       "1  https://www.instagram.com/unjcareercenter/p/DL...    11 July 2025, 02:42\n",
       "2  https://www.instagram.com/unjcareercenter/p/DM...    22 July 2025, 08:05\n",
       "3  https://www.instagram.com/unjcareercenter/p/DN...  07 August 2025, 06:53\n",
       "4  https://www.instagram.com/unjcareercenter/p/DN...  19 August 2025, 02:55"
      ]
     },
     "execution_count": 6,
     "metadata": {},
     "output_type": "execute_result"
    }
   ],
   "source": [
    "df_2025 = pd.DataFrame(urls_2025, columns=['url', 'post_date'])\n",
    "df_2025 = df_2025.drop_duplicates().reset_index(drop=True)\n",
    "df_2025.head()"
   ]
  },
  {
   "cell_type": "code",
   "execution_count": 7,
   "id": "b3528c62",
   "metadata": {},
   "outputs": [],
   "source": [
    "# close driver\n",
    "driver.quit()\n"
   ]
  },
  {
   "cell_type": "markdown",
   "id": "34ca37bf",
   "metadata": {},
   "source": [
    "### Fetch captions, like count, comment count using Instaloader"
   ]
  },
  {
   "cell_type": "code",
   "execution_count": 8,
   "id": "6eebf662",
   "metadata": {},
   "outputs": [],
   "source": [
    "L = instaloader.Instaloader()\n",
    "L.login(user_ig, pass_ig)"
   ]
  },
  {
   "cell_type": "code",
   "execution_count": null,
   "id": "b8bb486f",
   "metadata": {},
   "outputs": [
    {
     "data": {
      "text/html": [
       "<div>\n",
       "<style scoped>\n",
       "    .dataframe tbody tr th:only-of-type {\n",
       "        vertical-align: middle;\n",
       "    }\n",
       "\n",
       "    .dataframe tbody tr th {\n",
       "        vertical-align: top;\n",
       "    }\n",
       "\n",
       "    .dataframe thead th {\n",
       "        text-align: right;\n",
       "    }\n",
       "</style>\n",
       "<table border=\"1\" class=\"dataframe\">\n",
       "  <thead>\n",
       "    <tr style=\"text-align: right;\">\n",
       "      <th></th>\n",
       "      <th>url</th>\n",
       "      <th>post_date</th>\n",
       "      <th>caption</th>\n",
       "      <th>likes</th>\n",
       "      <th>jumlah_komen</th>\n",
       "    </tr>\n",
       "  </thead>\n",
       "  <tbody>\n",
       "    <tr>\n",
       "      <th>0</th>\n",
       "      <td>https://www.instagram.com/unjcareercenter/p/DM...</td>\n",
       "      <td>22 July 2025, 01:54</td>\n",
       "      <td>We Are Hiring!\\n.\\nBergabunglah Bersama Tim IS...</td>\n",
       "      <td>10</td>\n",
       "      <td>0</td>\n",
       "    </tr>\n",
       "    <tr>\n",
       "      <th>1</th>\n",
       "      <td>https://www.instagram.com/unjcareercenter/p/DL...</td>\n",
       "      <td>11 July 2025, 02:42</td>\n",
       "      <td>📣 [LOWONGAN KERJA – KHUSUS ALUMNI UNJ]\\n✨ Berg...</td>\n",
       "      <td>50</td>\n",
       "      <td>0</td>\n",
       "    </tr>\n",
       "    <tr>\n",
       "      <th>2</th>\n",
       "      <td>https://www.instagram.com/unjcareercenter/p/DM...</td>\n",
       "      <td>22 July 2025, 08:05</td>\n",
       "      <td>Pernah ngerasa kelas udah aktif, tapi siswa be...</td>\n",
       "      <td>13</td>\n",
       "      <td>0</td>\n",
       "    </tr>\n",
       "    <tr>\n",
       "      <th>3</th>\n",
       "      <td>https://www.instagram.com/unjcareercenter/p/DN...</td>\n",
       "      <td>07 August 2025, 06:53</td>\n",
       "      <td>Lulus Kuliah tapi bingung mau ngapain?\\nAtau u...</td>\n",
       "      <td>70</td>\n",
       "      <td>1</td>\n",
       "    </tr>\n",
       "    <tr>\n",
       "      <th>4</th>\n",
       "      <td>https://www.instagram.com/unjcareercenter/p/DN...</td>\n",
       "      <td>19 August 2025, 02:55</td>\n",
       "      <td>📢Untuk warga DKI Jakarta dan sekitarnya yang s...</td>\n",
       "      <td>84</td>\n",
       "      <td>0</td>\n",
       "    </tr>\n",
       "  </tbody>\n",
       "</table>\n",
       "</div>"
      ],
      "text/plain": [
       "                                                 url              post_date  \\\n",
       "0  https://www.instagram.com/unjcareercenter/p/DM...    22 July 2025, 01:54   \n",
       "1  https://www.instagram.com/unjcareercenter/p/DL...    11 July 2025, 02:42   \n",
       "2  https://www.instagram.com/unjcareercenter/p/DM...    22 July 2025, 08:05   \n",
       "3  https://www.instagram.com/unjcareercenter/p/DN...  07 August 2025, 06:53   \n",
       "4  https://www.instagram.com/unjcareercenter/p/DN...  19 August 2025, 02:55   \n",
       "\n",
       "                                             caption  likes  jumlah_komen  \n",
       "0  We Are Hiring!\\n.\\nBergabunglah Bersama Tim IS...     10             0  \n",
       "1  📣 [LOWONGAN KERJA – KHUSUS ALUMNI UNJ]\\n✨ Berg...     50             0  \n",
       "2  Pernah ngerasa kelas udah aktif, tapi siswa be...     13             0  \n",
       "3  Lulus Kuliah tapi bingung mau ngapain?\\nAtau u...     70             1  \n",
       "4  📢Untuk warga DKI Jakarta dan sekitarnya yang s...     84             0  "
      ]
     },
     "execution_count": 9,
     "metadata": {},
     "output_type": "execute_result"
    }
   ],
   "source": [
    "captions = []\n",
    "likes = []\n",
    "comments_count = []\n",
    "\n",
    "for url in df_2025[\"url\"]:\n",
    "    try:\n",
    "        shortcode = url.split(\"/p/\")[1].split(\"/\")[0]\n",
    "        post = instaloader.Post.from_shortcode(L.context, shortcode)\n",
    "\n",
    "        captions.append(post.caption)\n",
    "        likes.append(post.likes)\n",
    "        comments_count.append(post.comments)\n",
    "\n",
    "    except Exception as e:\n",
    "        print(f\"failed to fetch data from {url}: {e}\")\n",
    "        captions.append(None)\n",
    "        likes.append(None)\n",
    "        comments_count.append(None)\n",
    "\n",
    "df_2025[\"caption\"] = captions\n",
    "df_2025[\"likes\"] = likes\n",
    "df_2025[\"jumlah_komen\"] = comments_count\n",
    "\n",
    "df_2025.head()"
   ]
  },
  {
   "cell_type": "markdown",
   "id": "5e9ce1b4",
   "metadata": {},
   "source": [
    "### Save to Excel"
   ]
  },
  {
   "cell_type": "code",
   "execution_count": 10,
   "id": "34889caa",
   "metadata": {},
   "outputs": [
    {
     "name": "stdout",
     "output_type": "stream",
     "text": [
      "file saved as scraped.xlsx\n"
     ]
    }
   ],
   "source": [
    "output_file = \"scraped.xlsx\"\n",
    "df_2025.to_excel(output_file, index=False)\n",
    "\n",
    "print(f\"file saved as {output_file}\")"
   ]
  }
 ],
 "metadata": {
  "kernelspec": {
   "display_name": "apalah",
   "language": "python",
   "name": "python3"
  },
  "language_info": {
   "codemirror_mode": {
    "name": "ipython",
    "version": 3
   },
   "file_extension": ".py",
   "mimetype": "text/x-python",
   "name": "python",
   "nbconvert_exporter": "python",
   "pygments_lexer": "ipython3",
   "version": "3.13.3"
  }
 },
 "nbformat": 4,
 "nbformat_minor": 5
}
